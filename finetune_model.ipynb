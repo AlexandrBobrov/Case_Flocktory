{
  "cells": [
    {
      "cell_type": "markdown",
      "metadata": {
        "id": "view-in-github",
        "colab_type": "text"
      },
      "source": [
        "<a href=\"https://colab.research.google.com/github/AlexandrBobrov/Case_Flocktory/blob/main/finetune_model.ipynb\" target=\"_parent\"><img src=\"https://colab.research.google.com/assets/colab-badge.svg\" alt=\"Open In Colab\"/></a>"
      ]
    },
    {
      "cell_type": "code",
      "execution_count": 1,
      "id": "b7fa8be6",
      "metadata": {
        "id": "b7fa8be6"
      },
      "outputs": [],
      "source": [
        "import numpy as np\n",
        "import pandas as pd"
      ]
    },
    {
      "cell_type": "code",
      "execution_count": 2,
      "id": "205a8fdc",
      "metadata": {
        "id": "205a8fdc"
      },
      "outputs": [],
      "source": [
        "file_name = \"talks_dataset.df\""
      ]
    },
    {
      "cell_type": "code",
      "execution_count": 3,
      "id": "3b2e3e88",
      "metadata": {
        "colab": {
          "base_uri": "https://localhost:8080/",
          "height": 335
        },
        "id": "3b2e3e88",
        "outputId": "f91eacb1-46d4-4c8d-d2bc-2ae37bd63607"
      },
      "outputs": [
        {
          "output_type": "error",
          "ename": "FileNotFoundError",
          "evalue": "[Errno 2] No such file or directory: 'talks_dataset.df'",
          "traceback": [
            "\u001b[0;31m---------------------------------------------------------------------------\u001b[0m",
            "\u001b[0;31mFileNotFoundError\u001b[0m                         Traceback (most recent call last)",
            "\u001b[0;32m<ipython-input-3-1d8f2e5f1619>\u001b[0m in \u001b[0;36m<cell line: 1>\u001b[0;34m()\u001b[0m\n\u001b[0;32m----> 1\u001b[0;31m \u001b[0mload_df\u001b[0m \u001b[0;34m=\u001b[0m \u001b[0mpd\u001b[0m\u001b[0;34m.\u001b[0m\u001b[0mread_pickle\u001b[0m\u001b[0;34m(\u001b[0m\u001b[0mfile_name\u001b[0m\u001b[0;34m)\u001b[0m\u001b[0;34m\u001b[0m\u001b[0;34m\u001b[0m\u001b[0m\n\u001b[0m\u001b[1;32m      2\u001b[0m \u001b[0mload_df\u001b[0m\u001b[0;34m.\u001b[0m\u001b[0msample\u001b[0m\u001b[0;34m(\u001b[0m\u001b[0;36m3\u001b[0m\u001b[0;34m)\u001b[0m\u001b[0;34m\u001b[0m\u001b[0;34m\u001b[0m\u001b[0m\n",
            "\u001b[0;32m/usr/local/lib/python3.10/dist-packages/pandas/io/pickle.py\u001b[0m in \u001b[0;36mread_pickle\u001b[0;34m(filepath_or_buffer, compression, storage_options)\u001b[0m\n\u001b[1;32m    188\u001b[0m     \"\"\"\n\u001b[1;32m    189\u001b[0m     \u001b[0mexcs_to_catch\u001b[0m \u001b[0;34m=\u001b[0m \u001b[0;34m(\u001b[0m\u001b[0mAttributeError\u001b[0m\u001b[0;34m,\u001b[0m \u001b[0mImportError\u001b[0m\u001b[0;34m,\u001b[0m \u001b[0mModuleNotFoundError\u001b[0m\u001b[0;34m,\u001b[0m \u001b[0mTypeError\u001b[0m\u001b[0;34m)\u001b[0m\u001b[0;34m\u001b[0m\u001b[0;34m\u001b[0m\u001b[0m\n\u001b[0;32m--> 190\u001b[0;31m     with get_handle(\n\u001b[0m\u001b[1;32m    191\u001b[0m         \u001b[0mfilepath_or_buffer\u001b[0m\u001b[0;34m,\u001b[0m\u001b[0;34m\u001b[0m\u001b[0;34m\u001b[0m\u001b[0m\n\u001b[1;32m    192\u001b[0m         \u001b[0;34m\"rb\"\u001b[0m\u001b[0;34m,\u001b[0m\u001b[0;34m\u001b[0m\u001b[0;34m\u001b[0m\u001b[0m\n",
            "\u001b[0;32m/usr/local/lib/python3.10/dist-packages/pandas/io/common.py\u001b[0m in \u001b[0;36mget_handle\u001b[0;34m(path_or_buf, mode, encoding, compression, memory_map, is_text, errors, storage_options)\u001b[0m\n\u001b[1;32m    863\u001b[0m         \u001b[0;32melse\u001b[0m\u001b[0;34m:\u001b[0m\u001b[0;34m\u001b[0m\u001b[0;34m\u001b[0m\u001b[0m\n\u001b[1;32m    864\u001b[0m             \u001b[0;31m# Binary mode\u001b[0m\u001b[0;34m\u001b[0m\u001b[0;34m\u001b[0m\u001b[0m\n\u001b[0;32m--> 865\u001b[0;31m             \u001b[0mhandle\u001b[0m \u001b[0;34m=\u001b[0m \u001b[0mopen\u001b[0m\u001b[0;34m(\u001b[0m\u001b[0mhandle\u001b[0m\u001b[0;34m,\u001b[0m \u001b[0mioargs\u001b[0m\u001b[0;34m.\u001b[0m\u001b[0mmode\u001b[0m\u001b[0;34m)\u001b[0m\u001b[0;34m\u001b[0m\u001b[0;34m\u001b[0m\u001b[0m\n\u001b[0m\u001b[1;32m    866\u001b[0m         \u001b[0mhandles\u001b[0m\u001b[0;34m.\u001b[0m\u001b[0mappend\u001b[0m\u001b[0;34m(\u001b[0m\u001b[0mhandle\u001b[0m\u001b[0;34m)\u001b[0m\u001b[0;34m\u001b[0m\u001b[0;34m\u001b[0m\u001b[0m\n\u001b[1;32m    867\u001b[0m \u001b[0;34m\u001b[0m\u001b[0m\n",
            "\u001b[0;31mFileNotFoundError\u001b[0m: [Errno 2] No such file or directory: 'talks_dataset.df'"
          ]
        }
      ],
      "source": [
        "load_df = pd.read_pickle(file_name)\n",
        "load_df.sample(3)"
      ]
    },
    {
      "cell_type": "code",
      "execution_count": null,
      "id": "b9870d73",
      "metadata": {
        "id": "b9870d73"
      },
      "outputs": [],
      "source": [
        "!pip install trl transformers accelerate git+https://github.com/huggingface/peft.git -Uqqq\n",
        "!pip install bitsandbytes einops wandb -Uqqq\n",
        "#!pip install datasets -q"
      ]
    },
    {
      "cell_type": "code",
      "execution_count": null,
      "id": "7ff79f22",
      "metadata": {
        "id": "7ff79f22"
      },
      "outputs": [],
      "source": [
        "import torch\n",
        "import glob\n",
        "import pandas as pd\n",
        "import numpy as np\n",
        "import re\n",
        "from peft import get_peft_model, PeftConfig, PeftModel, LoraConfig, prepare_model_for_kbit_training\n",
        "from transformers import AutoTokenizer, AutoModelForCausalLM, BitsAndBytesConfig, TrainingArguments, GenerationConfig\n",
        "from trl import SFTTrainer\n",
        "from datasets import Dataset\n",
        "import warnings\n",
        "import random\n",
        "warnings.filterwarnings(\"ignore\")"
      ]
    },
    {
      "cell_type": "code",
      "execution_count": null,
      "id": "4a51406c",
      "metadata": {
        "id": "4a51406c"
      },
      "outputs": [],
      "source": [
        "trained_model_dir = 'tinyllama/checkpoint-700'\n",
        "\n",
        "config = PeftConfig.from_pretrained(trained_model_dir)"
      ]
    },
    {
      "cell_type": "code",
      "execution_count": null,
      "id": "9482f6c2",
      "metadata": {
        "id": "9482f6c2"
      },
      "outputs": [],
      "source": [
        "# Loading the model with double quantization\n",
        "model_name = \"PY007/TinyLlama-1.1B-step-50K-105b\"\n",
        "\n",
        "bnb_config = BitsAndBytesConfig(\n",
        "    load_in_4bit=True,\n",
        "    bnb_4bit_quant_type=\"nf4\",\n",
        "    bnb_4bit_use_double_quant=True,\n",
        "    bnb_4bit_compute_dtype=torch.bfloat16,\n",
        ")\n",
        "\n",
        "\n",
        "trained_model = AutoModelForCausalLM.from_pretrained(\n",
        "    config.base_model_name_or_path,\n",
        "    quantization_config=bnb_config,\n",
        "    trust_remote_code=True,\n",
        "    device_map='auto'\n",
        "\n",
        "    )\n"
      ]
    },
    {
      "cell_type": "code",
      "execution_count": null,
      "id": "571794dc",
      "metadata": {
        "id": "571794dc"
      },
      "outputs": [],
      "source": [
        "# Creating tokenizer and defining the pad token\n",
        "tokenizer = AutoTokenizer.from_pretrained(model_name, trust_remote_code=True, padding_side='right')\n",
        "tokenizer.pad_token = tokenizer.eos_token"
      ]
    },
    {
      "cell_type": "code",
      "execution_count": null,
      "id": "12b07895",
      "metadata": {
        "id": "12b07895"
      },
      "outputs": [],
      "source": [
        "# Generating lyrics with the base model. The repetition penalty in the generation config prevents the model from continually repeating the same string.\n",
        "device = 'cuda' if torch.cuda.is_available() else 'cpu'\n",
        "def generate_answer(query, model):\n",
        "    encoding = tokenizer(query, return_tensors=\"pt\").to(device)\n",
        "    generation_config = GenerationConfig(max_new_tokens=250, pad_token_id = tokenizer.eos_token_id,repetition_penalty=1.3, eos_token_id = tokenizer.eos_token_id)\n",
        "    outputs = model.generate(input_ids=encoding.input_ids, generation_config=generation_config)\n",
        "    text_output = tokenizer.decode(outputs[0],skip_special_tokens=True)\n",
        "    return text_output.split(\"[/INST]\")[1].split(\"\\n\\n\")[0]\n",
        "\n",
        "def get_test_prompt(df):\n",
        "    use_col = ['speaker', 'query', 'context', \"companions\", \"close_reply\"]\n",
        "    j = random.randint(0, df.shape[0])\n",
        "    id = random.randint(0, len(df[use_col].iloc[j][\"companions\"]))\n",
        "    query = df[use_col].iloc[j]['query']\n",
        "    role = df[use_col].iloc[j]['companions'][id]\n",
        "    context = df[use_col].iloc[j]['context']\n",
        "    reply = df.iloc[j][use_col][\"close_reply\"][id]\n",
        "    prompt = f\"[INST]\"\n",
        "    prompt += f'Use the given context to guide your an about the query like indicated in your role'\n",
        "    prompt += f\"query: {query}\\n\\n\"\n",
        "    prompt += f\"context: {context}\\n\\n\"\n",
        "    prompt += f\"your role: {role}\\n\\n\"\n",
        "    prompt += f'answer:[/INST]'\n",
        "\n",
        "    return query, role, reply, prompt"
      ]
    },
    {
      "cell_type": "code",
      "execution_count": null,
      "id": "2d69fc12",
      "metadata": {
        "id": "2d69fc12"
      },
      "outputs": [],
      "source": [
        "query, role, reply, prompt = get_test_prompt(load_df)\n",
        "answer = generate_answer(prompt, trained_model)\n",
        "\n",
        "print(f\"\\n\\nQuery: {query}\\n\")\n",
        "print(f\"Trained_model reply with role: {role}\\n\")\n",
        "\n",
        "print(answer)\n",
        "print()\n",
        "print(f'Answer in df: {reply}')"
      ]
    },
    {
      "cell_type": "code",
      "execution_count": null,
      "id": "3e6db87a",
      "metadata": {
        "id": "3e6db87a"
      },
      "outputs": [],
      "source": []
    }
  ],
  "metadata": {
    "kernelspec": {
      "display_name": "Python 3 (ipykernel)",
      "language": "python",
      "name": "python3"
    },
    "language_info": {
      "codemirror_mode": {
        "name": "ipython",
        "version": 3
      },
      "file_extension": ".py",
      "mimetype": "text/x-python",
      "name": "python",
      "nbconvert_exporter": "python",
      "pygments_lexer": "ipython3",
      "version": "3.11.5"
    },
    "colab": {
      "provenance": [],
      "include_colab_link": true
    }
  },
  "nbformat": 4,
  "nbformat_minor": 5
}